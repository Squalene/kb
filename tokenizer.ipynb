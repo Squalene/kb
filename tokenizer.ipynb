{
 "cells": [
  {
   "cell_type": "code",
   "execution_count": 1,
   "metadata": {},
   "outputs": [],
   "source": [
    "%load_ext autoreload\n",
    "%autoreload 2"
   ]
  },
  {
   "cell_type": "code",
   "execution_count": 2,
   "metadata": {},
   "outputs": [
    {
     "name": "stdout",
     "output_type": "stream",
     "text": [
      "CharacterTokenizer params None False None None\n",
      "TokenCharactersIndexer params: entity <allennlp.data.tokenizers.character_tokenizer.CharacterTokenizer object at 0x7fe1197c8b38> None None 0\n"
     ]
    },
    {
     "name": "stderr",
     "output_type": "stream",
     "text": [
      "/root/.conda/envs/knowbert/lib/python3.6/site-packages/sklearn/utils/linear_assignment_.py:22: FutureWarning: The linear_assignment_ module is deprecated in 0.21 and will be removed from 0.23. Use scipy.optimize.linear_sum_assignment instead.\n",
      "  FutureWarning)\n",
      "/root/.conda/envs/knowbert/lib/python3.6/site-packages/allennlp/data/token_indexers/token_characters_indexer.py:51: UserWarning: You are using the default value (0) of `min_padding_length`, which can cause some subtle bugs (more info see https://github.com/allenai/allennlp/issues/1954). Strongly recommend to set a value, usually the maximum size of the convolutional layer size when using CnnEncoder.\n",
      "  UserWarning)\n"
     ]
    }
   ],
   "source": [
    "import torch\n",
    "\n",
    "from kb.knowbert_utils import KnowBertBatchifier\n",
    "\n",
    "WORDNET_ARCHIVE = \"https://allennlp.s3-us-west-2.amazonaws.com/knowbert/models/knowbert_wordnet_model.tar.gz\"\n",
    "WIKI_ARCHIVE = \"https://allennlp.s3-us-west-2.amazonaws.com/knowbert/models/knowbert_wiki_model.tar.gz\"\n",
    "WORDNET_WIKI_ARCHIVE = \"https://allennlp.s3-us-west-2.amazonaws.com/knowbert/models/knowbert_wiki_wordnet_model.tar.gz\"\n",
    "\n",
    "WORDNET_FOLDER = '../knowbert_wordnet_model/'\n",
    "WORDNET_LINKER_FOLDER = WORDNET_FOLDER + 'entity_linker/'\n",
    "WORDNET_LINKER_EMBEDDING_FILE = WORDNET_LINKER_FOLDER + 'wordnet_synsets_mask_null_vocab_embeddings_tucker_gensen.hdf5'\n",
    "WORDNET_LINKER_ENTITY_FILE = WORDNET_LINKER_FOLDER + 'entities.jsonl'\n",
    "WORDNET_LINKER_VOCAB_FILE = WORDNET_LINKER_FOLDER + 'wordnet_synsets_mask_null_vocab.txt'\n",
    "\n",
    "\n",
    "WORDNET_MODEL_STATE_DICT_FILE = WORDNET_FOLDER+ 'weights.th'"
   ]
  },
  {
   "cell_type": "code",
   "execution_count": 3,
   "metadata": {},
   "outputs": [
    {
     "name": "stdout",
     "output_type": "stream",
     "text": [
      "WikiCandidateMentionGenerator params: None None True False None\n",
      "duplicate_mentions_cnt:  6777\n",
      "end of p_e_m reading. wall time: 1.2307601968447368  minutes\n",
      "p_e_m_errors:  0\n",
      "incompatible_ent_ids:  0\n",
      "TokenCharactersIndexer params: entity <allennlp.data.tokenizers.character_tokenizer.CharacterTokenizer object at 0x7fe1197c8b38> None None 0\n",
      "BertTokenizerAndCandidateGenerator params\n",
      "{'wiki': <kb.wiki_linking_util.WikiCandidateMentionGenerator object at 0x7fe39c99a160>}\n",
      "{'wiki': <allennlp.data.token_indexers.token_characters_indexer.TokenCharactersIndexer object at 0x7fe399172908>}\n",
      "bert-base-uncased\n",
      "True\n",
      "True\n",
      "512\n"
     ]
    }
   ],
   "source": [
    "original_batcher = KnowBertBatchifier(WIKI_ARCHIVE)"
   ]
  },
  {
   "cell_type": "code",
   "execution_count": 4,
   "metadata": {},
   "outputs": [],
   "source": [
    "from kb.custom_tokenizer.custom_tokenizer import CustomKnowBertBatchifier\n",
    "from kb.custom_tokenizer.bert_tokenizer_and_candidate_generator import BertTokenizerAndCandidateGenerator\n",
    "from kb.custom_tokenizer.wiki_linking_util import WikiCandidateMentionGenerator\n",
    "from kb.custom_tokenizer.vocabulary import Vocabulary\n",
    "\n",
    "from allennlp.common import Params\n",
    "\n",
    "\n",
    "candidate_generator_params = {\n",
    "                        \"type\": \"bert_tokenizer_and_candidate_generator\",\n",
    "                        \"bert_model_type\": \"bert-base-uncased\",\n",
    "                        \"do_lower_case\": True,\n",
    "                        \"entity_candidate_generators\": {\n",
    "                            \"wiki\": {\n",
    "                                \"type\": \"wiki\"\n",
    "                            }\n",
    "                        },\n",
    "                        \"entity_indexers\": {\n",
    "                            \"wiki\": {\n",
    "                                \"type\": \"characters_tokenizer\",\n",
    "                                \"namespace\": \"entity\",\n",
    "                                \"tokenizer\": {\n",
    "                                    \"type\": \"word\",\n",
    "                                    \"word_splitter\": {\n",
    "                                        \"type\": \"just_spaces\"\n",
    "                                    }\n",
    "                                }\n",
    "                            }\n",
    "                        }\n",
    "                    }"
   ]
  },
  {
   "cell_type": "code",
   "execution_count": 5,
   "metadata": {},
   "outputs": [
    {
     "name": "stdout",
     "output_type": "stream",
     "text": [
      "duplicate_mentions_cnt:  6777\n",
      "end of p_e_m reading. wall time: 1.3197708050409953  minutes\n",
      "p_e_m_errors:  0\n",
      "incompatible_ent_ids:  0\n"
     ]
    }
   ],
   "source": [
    "custom_candidate_mention_generator = WikiCandidateMentionGenerator()#use default params: None None True False None\n",
    "entity_candidate_generators = {'wiki':custom_candidate_mention_generator}\n",
    "\n",
    "bert_model_type = 'bert-base-uncased'\n",
    "custom_tokenizer_and_candidate_generator = BertTokenizerAndCandidateGenerator(entity_candidate_generators,bert_model_type,do_lower_case=True,whitespace_tokenize=True,max_word_piece_sequence_length=512) \n",
    "\n",
    "vocabulary = Vocabulary.from_files(\"https://allennlp.s3-us-west-2.amazonaws.com/knowbert/wiki_entity_linking/vocabulary_wiki.tar.gz\")\n",
    "#vocabulary = Vocabulary.from_params(Params({\"directory_path\": \"https://allennlp.s3-us-west-2.amazonaws.com/knowbert/wiki_entity_linking/vocabulary_wiki.tar.gz\"}))"
   ]
  },
  {
   "cell_type": "code",
   "execution_count": 6,
   "metadata": {},
   "outputs": [
    {
     "data": {
      "text/plain": [
       "'Paris_Hilton'"
      ]
     },
     "execution_count": 6,
     "metadata": {},
     "output_type": "execute_result"
    }
   ],
   "source": [
    "vocabulary.get_token_index(\"Paris_Hilton\")\n",
    "vocabulary.get_token_from_index(1,'entity')\n",
    "vocabulary.get_token_from_index(156993,'entity')\n",
    "# vocabulary._index_to_token['entity']"
   ]
  },
  {
   "cell_type": "code",
   "execution_count": 7,
   "metadata": {},
   "outputs": [],
   "source": [
    "custom_batcher = CustomKnowBertBatchifier(custom_tokenizer_and_candidate_generator,vocabulary)"
   ]
  },
  {
   "cell_type": "code",
   "execution_count": 13,
   "metadata": {},
   "outputs": [
    {
     "name": "stdout",
     "output_type": "stream",
     "text": [
      "Batch tokens shape (4, 42)\n",
      "Batch segment_ids shape (4, 42)\n",
      "token ids are equal: True\n",
      "Segment ids are equal: True\n",
      "Candidate entity_priors are equal: True\n",
      "Candidate entities ids are equal: True\n",
      "Candidate span are equal: True\n",
      "Candidate segments_ids are equal: True\n"
     ]
    }
   ],
   "source": [
    "#Create test set\n",
    "sentences = [[\"Paris is located in [MASK].\", \"Michael [MASK] is a great music singer\"],\n",
    "            [\"The Louvre contains the Mona Lisa\", \"The Amazon river is in Brazil\"],\n",
    "            \"Donald Duck is a cartoon character\",\n",
    "            [\"Hayao Miyazaki is the co-founder of Studio Ghibli and a renowned anime film maker\",\n",
    "            \"The Alpine ibex is one of Switzerland's most famous animal along its grazing cows\"]]\n",
    "            \n",
    "def batchifier_equal(original_batcher,custom_batcher,test_sentences):\n",
    "    for original_batch,custom_batch in zip(original_batcher.iter_batches(test_sentences,verbose=False),custom_batcher.iter_batches(test_sentences,verbose=False)):\n",
    "        \n",
    "        print(f\"token ids are equal: {torch.equal(original_batch['tokens']['tokens'], custom_batch['tokens']['tokens'])}\")\n",
    "        #Defines the segments_ids (0 for first segment and 1 for second), can be used for NSP\n",
    "        #shape: (batch_size,max_seq_len)\n",
    "        print(f\"Segment ids are equal: {torch.equal(original_batch['segment_ids'],custom_batch['segment_ids'])}\")\n",
    "\n",
    "        original_wiki_kb = original_batch['candidates']['wiki']\n",
    "        custom_wiki_kb = custom_batch['candidates']['wiki']\n",
    "\n",
    "        print(f\"Candidate entity_priors are equal: {torch.equal(original_wiki_kb['candidate_entity_priors'],custom_wiki_kb['candidate_entity_priors'])}\")\n",
    "        print(f\"Candidate entities ids are equal: {torch.equal(original_wiki_kb['candidate_entities']['ids'],custom_wiki_kb['candidate_entities']['ids'])}\")\n",
    "        print(f\"Candidate span are equal: {torch.equal(original_wiki_kb['candidate_spans'],custom_wiki_kb['candidate_spans'])}\")\n",
    "\n",
    "        #For each sentence entity, indicate to which segment ids it corresponds to\n",
    "        print(f\"Candidate segments_ids are equal: {torch.equal(original_wiki_kb['candidate_segment_ids'],custom_wiki_kb['candidate_segment_ids'])}\")\n",
    "    \n",
    "\n",
    "batchifier_equal(original_batcher,custom_batcher,sentences)"
   ]
  },
  {
   "cell_type": "code",
   "execution_count": 21,
   "metadata": {},
   "outputs": [
    {
     "name": "stdout",
     "output_type": "stream",
     "text": [
      "token ids are equal: True\n",
      "Segment ids are equal: True\n",
      "Candidate entity_priors are equal: True\n",
      "Candidate entities ids are equal: True\n",
      "Candidate span are equal: True\n",
      "Candidate segments_ids are equal: True\n"
     ]
    }
   ],
   "source": [
    "#Generate a test set for batchifier\n",
    "test_sentences = [[\"Paris is located in [MASK].\", \"Michael [MASK] is a great music singer\"],\n",
    "            [\"The Louvre contains the Mona Lisa\", \"The Amazon river is in Brazil\"],\n",
    "            \"Donald Duck is a cartoon character\",\n",
    "            [\"Hayao Miyazaki is the co-founder of Studio Ghibli and a renowned anime film maker\",\n",
    "            \"The Alpine ibex is one of Switzerland's most famous animal along its grazing cows\"]]\n",
    "\n",
    "test = {}\n",
    "test['input']=test_sentences\n",
    "test_expected =[]\n",
    "for original_batch in original_batcher.iter_batches(test['input'],verbose=False):\n",
    "    test_expected.append(original_batch)\n",
    "\n",
    "test['expected'] = test_expected\n",
    "\n",
    "torch.save(test,\"tokenizer_test\")\n",
    "\n",
    "test = torch.load(\"tokenizer_test\")\n",
    "\n",
    "for custom_batch,expected_batch in zip(custom_batcher.iter_batches(test['input'],verbose=False),test['expected']):\n",
    "    print(f\"token ids are equal: {torch.equal(expected_batch['tokens']['tokens'], custom_batch['tokens']['tokens'])}\")\n",
    "    #Defines the segments_ids (0 for first segment and 1 for second), can be used for NSP\n",
    "    #shape: (batch_size,max_seq_len)\n",
    "    print(f\"Segment ids are equal: {torch.equal(expected_batch['segment_ids'],custom_batch['segment_ids'])}\")\n",
    "\n",
    "    expected_wiki_kb = original_batch['candidates']['wiki']\n",
    "    custom_wiki_kb = custom_batch['candidates']['wiki']\n",
    "\n",
    "    print(f\"Candidate entity_priors are equal: {torch.equal(expected_wiki_kb['candidate_entity_priors'],custom_wiki_kb['candidate_entity_priors'])}\")\n",
    "    print(f\"Candidate entities ids are equal: {torch.equal(expected_wiki_kb['candidate_entities']['ids'],custom_wiki_kb['candidate_entities']['ids'])}\")\n",
    "    print(f\"Candidate span are equal: {torch.equal(expected_wiki_kb['candidate_spans'],custom_wiki_kb['candidate_spans'])}\")\n",
    "\n",
    "    #For each sentence entity, indicate to which segment ids it corresponds to\n",
    "    print(f\"Candidate segments_ids are equal: {torch.equal(expected_wiki_kb['candidate_segment_ids'],custom_wiki_kb['candidate_segment_ids'])}\")\n"
   ]
  },
  {
   "cell_type": "code",
   "execution_count": 10,
   "metadata": {},
   "outputs": [
    {
     "name": "stdout",
     "output_type": "stream",
     "text": [
      "Batch: dict_keys(['tokens', 'segment_ids', 'candidates'])\n",
      "Tokens shape torch.Size([4, 42])\n",
      "Tokens type torch.int64\n",
      "Segment ids shape: torch.Size([4, 42])\n",
      "Segment ids type torch.int64\n",
      "Candidate entity_priors shape: torch.Size([4, 26, 30])\n",
      "Candidate entity_priors type: torch.float32\n",
      "Candidate entities ids shape: torch.Size([4, 26, 30])\n",
      "Candidate entities ids type: torch.int64\n",
      "Candidate span shape: torch.Size([4, 26, 2])\n",
      "Candidate span type: torch.int64\n",
      "Candidate segments_ids shape: torch.Size([4, 26])\n",
      "Candidate segments_ids type: torch.int64\n"
     ]
    }
   ],
   "source": [
    "for batch in original_batcher.iter_batches(sentences, verbose=False):\n",
    "    print(f\"Batch: {batch.keys()}\") #Batch contains {tokens,segment_ids,candidates}\n",
    "    #tokens: Tensor of tokens indices (used to idx an embedding) => because a batch contains multiple\n",
    "    #sentences with varying # of tokens, all tokens tensors are padded with zeros \n",
    "    #shape: (batch_size (#full_sentences(if two sentences => link them with NSP)), max_seq_len)\n",
    "    #print(batch['tokens'])#dict with only 'tokens'\n",
    "    print(f\"Tokens shape {batch['tokens']['tokens'].shape}\")\n",
    "    print(f\"Tokens type {batch['tokens']['tokens'].dtype}\")\n",
    "    #Defines the segments_ids (0 for first segment and 1 for second), can be used for NSP\n",
    "    #shape: (batch_size,max_seq_len)\n",
    "    print(f\"Segment ids shape: {batch['segment_ids'].shape}\")\n",
    "    print(f\"Segment ids type {batch['segment_ids'].dtype}\")\n",
    "\n",
    "    #Dict with only wordnet\n",
    "    #Candidates: stores for multiple knowledge base, the entities detected using this knowledge base\n",
    "    wiki_kb = batch['candidates']['wiki']\n",
    "    # print(f\"Wordnet kb: {wordnet_kb.keys()}\")\n",
    "\n",
    "    #Stores for each detected entities, a list of candidate KB entities that correspond to it\n",
    "    #Priors: correctness probabilities estimated by the entity linker (sum to 1 (or 0 if padding) on axis 2)\n",
    "    #Adds 0 padding to axis 1 when there is less detected entities in the sentence than in the max sentence\n",
    "    #Adds 0 padding to axis 2 when there is less detected KB entities for an entity in the sentence than in the max candidate KB entities entity\n",
    "    #shape:(batch_size, max # detected entities, max # KB candidate entities)\n",
    "    print(f\"Candidate entity_priors shape: {wiki_kb['candidate_entity_priors'].shape}\")\n",
    "    print(f\"Candidate entity_priors type: {wiki_kb['candidate_entity_priors'].dtype}\")\n",
    "    #Ids of the KB candidate entities + 0 padding on axis 1 or 2 if necessary\n",
    "    #shape: (batch_size, max # detected entities, max # KB candidate entities)\n",
    "    print(f\"Candidate entities ids shape: {wiki_kb['candidate_entities']['ids'].shape}\")\n",
    "    print(f\"Candidate entities ids type: {wiki_kb['candidate_entities']['ids'].dtype}\")\n",
    "    #Spans of which sequence of tokens correspond to an entity in the sentence, eg: [1,2] for Michael Jackson (both bounds are included)\n",
    "    #Padding with [-1,-1] when no more detected entities\n",
    "    #shape: (batch_size, max # detected entities, 2)\n",
    "    print(f\"Candidate span shape: {wiki_kb['candidate_spans'].shape}\")\n",
    "    print(f\"Candidate span type: {wiki_kb['candidate_spans'].dtype}\")\n",
    "\n",
    "    #For each sentence entity, indicate to which segment ids it corresponds to\n",
    "    print(f\"Candidate segments_ids shape: {wiki_kb['candidate_segment_ids'].shape}\")\n",
    "    print(f\"Candidate segments_ids type: {wiki_kb['candidate_segment_ids'].dtype}\")\n",
    "    #break\n",
    "\n",
    "\n",
    "\n",
    "    # \n",
    "    #shape: (batch_size, max # detected entities)\n",
    "    # model(**batch)"
   ]
  },
  {
   "cell_type": "code",
   "execution_count": 11,
   "metadata": {},
   "outputs": [
    {
     "name": "stdout",
     "output_type": "stream",
     "text": [
      "\n",
      "Input\n",
      "\n",
      "Batch: dict_keys(['tokens', 'segment_ids', 'candidates'])\n",
      "Tokens shape torch.Size([4, 42])\n",
      "Segment ids shape: torch.Size([4, 42])\n"
     ]
    },
    {
     "ename": "KeyError",
     "evalue": "'wordnet'",
     "output_type": "error",
     "traceback": [
      "\u001b[0;31m---------------------------------------------------------------------------\u001b[0m",
      "\u001b[0;31mKeyError\u001b[0m                                  Traceback (most recent call last)",
      "\u001b[0;32m<ipython-input-11-f4cc3836615f>\u001b[0m in \u001b[0;36m<module>\u001b[0;34m\u001b[0m\n\u001b[1;32m     12\u001b[0m \u001b[0;31m#Dict with only wordnet\u001b[0m\u001b[0;34m\u001b[0m\u001b[0;34m\u001b[0m\u001b[0;34m\u001b[0m\u001b[0m\n\u001b[1;32m     13\u001b[0m \u001b[0;31m#Candidates: stores for multiple knowledge base, the entities detected using this knowledge base\u001b[0m\u001b[0;34m\u001b[0m\u001b[0;34m\u001b[0m\u001b[0;34m\u001b[0m\u001b[0m\n\u001b[0;32m---> 14\u001b[0;31m \u001b[0mwordnet_kb\u001b[0m \u001b[0;34m=\u001b[0m \u001b[0mbatch\u001b[0m\u001b[0;34m[\u001b[0m\u001b[0;34m'candidates'\u001b[0m\u001b[0;34m]\u001b[0m\u001b[0;34m[\u001b[0m\u001b[0;34m'wordnet'\u001b[0m\u001b[0;34m]\u001b[0m\u001b[0;34m\u001b[0m\u001b[0;34m\u001b[0m\u001b[0m\n\u001b[0m\u001b[1;32m     15\u001b[0m \u001b[0mprint\u001b[0m\u001b[0;34m(\u001b[0m\u001b[0;34mf\"Wordnet kb: {wordnet_kb.keys()}\"\u001b[0m\u001b[0;34m)\u001b[0m\u001b[0;34m\u001b[0m\u001b[0;34m\u001b[0m\u001b[0m\n\u001b[1;32m     16\u001b[0m \u001b[0;34m\u001b[0m\u001b[0m\n",
      "\u001b[0;31mKeyError\u001b[0m: 'wordnet'"
     ]
    }
   ],
   "source": [
    "print(f\"\\nInput\\n\")\n",
    "print(f\"Batch: {batch.keys()}\") #Batch contains {tokens,segment_ids,candidates}\n",
    "#tokens: Tensor of tokens indices (used to idx an embedding) => because a batch contains multiple\n",
    "#sentences with varying # of tokens, all tokens tensors are padded with zeros \n",
    "#shape: (batch_size (#sentences), max_seq_len)\n",
    "#print(batch['tokens'])#dict with only 'tokens'\n",
    "print(f\"Tokens shape {batch['tokens']['tokens'].shape}\")\n",
    "#Defines the segments_ids (0 for first segment and 1 for second), can be used for NSP\n",
    "#shape: (batch_size,max_seq_len), 0 padding\n",
    "print(f\"Segment ids shape: {batch['segment_ids'].shape}\")\n",
    "\n",
    "#Dict with only wordnet\n",
    "#Candidates: stores for multiple knowledge base, the entities detected using this knowledge base\n",
    "wordnet_kb = batch['candidates']['wordnet']\n",
    "print(f\"Wordnet kb: {wordnet_kb.keys()}\")\n",
    "\n",
    "#Stores for each detected entities, a list of candidate KB entities that correspond to it\n",
    "#Priors: correctness probabilities estimated by the entity linker (sum to 1 (or 0 if padding) on axis 2)\n",
    "#Adds 0 padding to axis 1 when there is less detected entities in the sentence than in the max sentence\n",
    "#Adds 0 padding to axis 2 when there is less detected KB entities for an entity in the sentence than in the max candidate KB entities entity\n",
    "#shape:(batch_size, max # detected entities, max # KB candidate entities)\n",
    "print(f\"Candidate entity_priors shape: {wordnet_kb['candidate_entity_priors'].shape}\")\n",
    "#Ids of the KB candidate entities + 0 padding on axis 1 or 2 if necessary\n",
    "#shape: (batch_size, max # detected entities, max # KB candidate entities)\n",
    "print(f\"Candidate entities ids shape: {wordnet_kb['candidate_entities']['ids'].shape}\")\n",
    "#Spans of which sequence of tokens correspond to an entity in the sentence, eg: [1,2] for Michael Jackson (both bounds are included)\n",
    "#Padding with [-1,-1] when no more detected entities\n",
    "#shape: (batch_size, max # detected entities, 2)\n",
    "print(f\"Candidate span shape: {wordnet_kb['candidate_spans'].shape}\")\n",
    "\n",
    "#For each sentence entity, indicate to which segment ids it corresponds to\n",
    "#shape: (batch_size, max # detected entities)\n",
    "print(f\"Candidate segments_ids shape: {wordnet_kb['candidate_segment_ids'].shape}\")"
   ]
  }
 ],
 "metadata": {
  "interpreter": {
   "hash": "9797c430b9b8ca5d4cad34220fe2c597e42ba7691ef10261f4554305aef3ef0a"
  },
  "kernelspec": {
   "display_name": "Python 3.6.7 ('knowbert': conda)",
   "language": "python",
   "name": "python3"
  },
  "language_info": {
   "codemirror_mode": {
    "name": "ipython",
    "version": 3
   },
   "file_extension": ".py",
   "mimetype": "text/x-python",
   "name": "python",
   "nbconvert_exporter": "python",
   "pygments_lexer": "ipython3",
   "version": "3.6.7"
  },
  "orig_nbformat": 4
 },
 "nbformat": 4,
 "nbformat_minor": 2
}
