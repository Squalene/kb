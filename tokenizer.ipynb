{
 "cells": [
  {
   "cell_type": "code",
   "execution_count": 38,
   "metadata": {},
   "outputs": [
    {
     "name": "stdout",
     "output_type": "stream",
     "text": [
      "The autoreload extension is already loaded. To reload it, use:\n",
      "  %reload_ext autoreload\n"
     ]
    }
   ],
   "source": [
    "%load_ext autoreload\n",
    "%autoreload 2"
   ]
  },
  {
   "cell_type": "code",
   "execution_count": 39,
   "metadata": {},
   "outputs": [],
   "source": [
    "import torch\n",
    "\n",
    "from kb.knowbert_utils import KnowBertBatchifier\n",
    "\n",
    "\n",
    "\n",
    "WORDNET_ARCHIVE = \"https://allennlp.s3-us-west-2.amazonaws.com/knowbert/models/knowbert_wordnet_model.tar.gz\"\n",
    "WIKI_ARCHIVE = \"https://allennlp.s3-us-west-2.amazonaws.com/knowbert/models/knowbert_wiki_model.tar.gz\"\n",
    "WORDNET_WIKI_ARCHIVE = \"https://allennlp.s3-us-west-2.amazonaws.com/knowbert/models/knowbert_wiki_wordnet_model.tar.gz\"\n",
    "\n",
    "WORDNET_FOLDER = '../knowbert_wordnet_model/'\n",
    "WORDNET_LINKER_FOLDER = WORDNET_FOLDER + 'entity_linker/'\n",
    "WORDNET_LINKER_EMBEDDING_FILE = WORDNET_LINKER_FOLDER + 'wordnet_synsets_mask_null_vocab_embeddings_tucker_gensen.hdf5'\n",
    "WORDNET_LINKER_ENTITY_FILE = WORDNET_LINKER_FOLDER + 'entities.jsonl'\n",
    "WORDNET_LINKER_VOCAB_FILE = WORDNET_LINKER_FOLDER + 'wordnet_synsets_mask_null_vocab.txt'\n",
    "\n",
    "\n",
    "WORDNET_MODEL_STATE_DICT_FILE = WORDNET_FOLDER+ 'weights.th'"
   ]
  },
  {
   "cell_type": "code",
   "execution_count": 40,
   "metadata": {},
   "outputs": [
    {
     "name": "stdout",
     "output_type": "stream",
     "text": [
      "WikiCandidateMentionGenerator params: None None True False None\n",
      "duplicate_mentions_cnt:  6777\n",
      "end of p_e_m reading. wall time: 1.2687055548032125  minutes\n",
      "p_e_m_errors:  0\n",
      "incompatible_ent_ids:  0\n"
     ]
    },
    {
     "name": "stderr",
     "output_type": "stream",
     "text": [
      "/root/.conda/envs/knowbert/lib/python3.6/site-packages/allennlp/data/token_indexers/token_characters_indexer.py:51: UserWarning: You are using the default value (0) of `min_padding_length`, which can cause some subtle bugs (more info see https://github.com/allenai/allennlp/issues/1954). Strongly recommend to set a value, usually the maximum size of the convolutional layer size when using CnnEncoder.\n",
      "  UserWarning)\n"
     ]
    },
    {
     "name": "stdout",
     "output_type": "stream",
     "text": [
      "TokenCharactersIndexer params: entity <allennlp.data.tokenizers.character_tokenizer.CharacterTokenizer object at 0x7f197badeb38> None None 0\n",
      "BertTokenizerAndCandidateGenerator params\n",
      "{'wiki': <kb.wiki_linking_util.WikiCandidateMentionGenerator object at 0x7f16f10128d0>}\n",
      "{'wiki': <allennlp.data.token_indexers.token_characters_indexer.TokenCharactersIndexer object at 0x7f16f10be908>}\n",
      "bert-base-uncased\n",
      "True\n",
      "True\n",
      "512\n"
     ]
    }
   ],
   "source": [
    "original_batcher = KnowBertBatchifier(WIKI_ARCHIVE)"
   ]
  },
  {
   "cell_type": "code",
   "execution_count": 41,
   "metadata": {},
   "outputs": [
    {
     "name": "stderr",
     "output_type": "stream",
     "text": [
      "[autoreload of kb.custom_tokenizer.custom_tokenizer failed: Traceback (most recent call last):\n",
      "  File \"/root/.conda/envs/knowbert/lib/python3.6/site-packages/IPython/extensions/autoreload.py\", line 245, in check\n",
      "    superreload(m, reload, self.old_objects)\n",
      "  File \"/root/.conda/envs/knowbert/lib/python3.6/site-packages/IPython/extensions/autoreload.py\", line 394, in superreload\n",
      "    module = reload(module)\n",
      "  File \"/root/.conda/envs/knowbert/lib/python3.6/imp.py\", line 315, in reload\n",
      "    return importlib.reload(module)\n",
      "  File \"/root/.conda/envs/knowbert/lib/python3.6/importlib/__init__.py\", line 166, in reload\n",
      "    _bootstrap._exec(spec, module)\n",
      "  File \"<frozen importlib._bootstrap>\", line 618, in _exec\n",
      "  File \"<frozen importlib._bootstrap_external>\", line 674, in exec_module\n",
      "  File \"<frozen importlib._bootstrap_external>\", line 781, in get_code\n",
      "  File \"<frozen importlib._bootstrap_external>\", line 741, in source_to_code\n",
      "  File \"<frozen importlib._bootstrap>\", line 219, in _call_with_frames_removed\n",
      "  File \"/root/kb/kb/custom_tokenizer/custom_tokenizer.py\", line 189\n",
      "    number_candidate_ids =\n",
      "                          ^\n",
      "SyntaxError: invalid syntax\n",
      "]\n"
     ]
    }
   ],
   "source": [
    "from kb.custom_tokenizer.custom_tokenizer import CustomKnowBertBatchifier\n",
    "from kb.custom_tokenizer.bert_tokenizer_and_candidate_generator import TokenizerAndCandidateGenerator, BertTokenizerAndCandidateGenerator\n",
    "from kb.custom_tokenizer.wiki_linking_util import WikiCandidateMentionGenerator\n",
    "#from kb.bert_tokenizer_and_candidate_generator import TokenizerAndCandidateGenerator, BertTokenizerAndCandidateGenerator\n",
    "#from kb.wiki_linking_util import WikiCandidateMentionGenerator\n",
    "from allennlp.data import Vocabulary\n",
    "\n",
    "from allennlp.data.token_indexers.token_characters_indexer import TokenCharactersIndexer\n",
    "from allennlp.data.tokenizers.character_tokenizer import CharacterTokenizer\n",
    "from allennlp.data.tokenizers.word_tokenizer import WordTokenizer\n",
    "from allennlp.data.tokenizers.word_splitter import JustSpacesWordSplitter\n",
    "from allennlp.common import Params\n",
    "\n",
    "\n",
    "candidate_generator_params = {\n",
    "                        \"type\": \"bert_tokenizer_and_candidate_generator\",\n",
    "                        \"bert_model_type\": \"bert-base-uncased\",\n",
    "                        \"do_lower_case\": True,\n",
    "                        \"entity_candidate_generators\": {\n",
    "                            \"wiki\": {\n",
    "                                \"type\": \"wiki\"\n",
    "                            }\n",
    "                        },\n",
    "                        \"entity_indexers\": {\n",
    "                            \"wiki\": {\n",
    "                                \"type\": \"characters_tokenizer\",\n",
    "                                \"namespace\": \"entity\",\n",
    "                                \"tokenizer\": {\n",
    "                                    \"type\": \"word\",\n",
    "                                    \"word_splitter\": {\n",
    "                                        \"type\": \"just_spaces\"\n",
    "                                    }\n",
    "                                }\n",
    "                            }\n",
    "                        }\n",
    "                    }"
   ]
  },
  {
   "cell_type": "code",
   "execution_count": 42,
   "metadata": {},
   "outputs": [
    {
     "name": "stdout",
     "output_type": "stream",
     "text": [
      "WikiCandidateMentionGenerator params: None None True False None\n",
      "duplicate_mentions_cnt:  6777\n",
      "end of p_e_m reading. wall time: 1.3880009134610494  minutes\n",
      "p_e_m_errors:  0\n",
      "incompatible_ent_ids:  0\n",
      "TokenCharactersIndexer params: entity <allennlp.data.tokenizers.word_tokenizer.WordTokenizer object at 0x7f15a6a21e10> None None 0\n"
     ]
    }
   ],
   "source": [
    "custom_candidate_mention_generator = WikiCandidateMentionGenerator()#use default params: None None True False None\n",
    "entity_candidate_generators = {'wiki':custom_candidate_mention_generator}\n",
    "\n",
    "character_tokenizer = WordTokenizer(JustSpacesWordSplitter())#use default params for the rest\n",
    "custom_entity_indexer = TokenCharactersIndexer('entity',character_tokenizer) #use default params for rest\n",
    "entity_indexers = {'wiki':custom_entity_indexer}\n",
    "\n",
    "bert_model_type = 'bert-base-uncased'\n",
    "custom_tokenizer_and_candidate_generator = BertTokenizerAndCandidateGenerator(entity_candidate_generators,entity_indexers,bert_model_type,do_lower_case=True,whitespace_tokenize=True,max_word_piece_sequence_length=512) \n",
    "\n",
    "vocabulary = Vocabulary.from_params(Params({\"directory_path\": \"https://allennlp.s3-us-west-2.amazonaws.com/knowbert/wiki_entity_linking/vocabulary_wiki.tar.gz\"}))"
   ]
  },
  {
   "cell_type": "code",
   "execution_count": 43,
   "metadata": {},
   "outputs": [
    {
     "data": {
      "text/plain": [
       "'Paris_Hilton'"
      ]
     },
     "execution_count": 43,
     "metadata": {},
     "output_type": "execute_result"
    }
   ],
   "source": [
    "vocabulary.get_token_index(\"Paris_Hilton\")\n",
    "vocabulary.get_token_from_index(1,'entity')\n",
    "vocabulary.get_token_from_index(156993,'entity')\n",
    "# vocabulary._index_to_token['entity']"
   ]
  },
  {
   "cell_type": "code",
   "execution_count": 44,
   "metadata": {},
   "outputs": [],
   "source": [
    "custom_batcher = CustomKnowBertBatchifier(custom_tokenizer_and_candidate_generator,vocabulary)"
   ]
  },
  {
   "cell_type": "code",
   "execution_count": 81,
   "metadata": {},
   "outputs": [
    {
     "name": "stdout",
     "output_type": "stream",
     "text": [
      "Tokens shape (16,)\n",
      "Segment ids shape (16,)\n",
      "Candidate spans shape (9, 2)\n",
      "Candidate_segment_ids shape (9,)\n",
      "Candidate_entity_priors shape (9, 30)\n",
      "candidate_entity_ids shape (9, 30)\n",
      "Tokens shape (15,)\n",
      "Segment ids shape (15,)\n",
      "Candidate spans shape (14, 2)\n",
      "Candidate_segment_ids shape (14,)\n",
      "Candidate_entity_priors shape (14, 30)\n",
      "candidate_entity_ids shape (14, 30)\n",
      "Tokens shape (8,)\n",
      "Segment ids shape (8,)\n",
      "Candidate spans shape (7, 2)\n",
      "Candidate_segment_ids shape (7,)\n",
      "Candidate_entity_priors shape (7, 30)\n",
      "candidate_entity_ids shape (7, 30)\n",
      "Tokens shape (42,)\n",
      "Segment ids shape (42,)\n",
      "Candidate spans shape (26, 2)\n",
      "Candidate_segment_ids shape (26,)\n",
      "Candidate_entity_priors shape (26, 30)\n",
      "candidate_entity_ids shape (26, 30)\n",
      "Number of instances is 4\n",
      "Number of instances is 4\n",
      "Max tokens 42\n",
      "Batch tokens shape (4, 42)\n",
      "Batch segment_ids shape (4, 42)\n",
      "Max number of detected entities {'wiki': 26}\n",
      "Max number of candidate entities {'wiki': 30}\n",
      "Batch candidate_spans shape (4, 26, 2)\n",
      "Batch candidate_entity_ids shape (4, 26, 30)\n",
      "Batch candidate_entity_priors shape (4, 26, 30)\n",
      "Batch candidate_segment_ids shape (4, 26)\n",
      "token ids are equal: True\n",
      "Segment ids are equal: True\n",
      "Candidate entity_priors are equal: True\n",
      "Candidate entities ids are equal: True\n",
      "Candidate span are equal: True\n",
      "Candidate segments_ids are equal: True\n"
     ]
    }
   ],
   "source": [
    "#Create test set\n",
    "sentences = [[\"Paris is located in [MASK].\", \"Michael [MASK] is a great music singer\"],\n",
    "            [\"The Louvre contains the Mona Lisa\", \"The Amazon river is in Brazil\"],\n",
    "            \"Donald Duck is a cartoon character\",\n",
    "            [\"Hayao Miyazaki is the co-founder of Studio Ghibli and a renowned anime film maker\",\n",
    "            \"The Alpine ibex is one of Switzerland's most famous animal along its grazing cows\"]]\n",
    "            \n",
    "def batchifier_equal(original_batcher,custom_batcher,test_sentences):\n",
    "    for original_batch,custom_batch in zip(original_batcher.iter_batches(test_sentences,verbose=False),custom_batcher.iter_batches(test_sentences,verbose=False)):\n",
    "        \n",
    "        print(f\"token ids are equal: {torch.equal(original_batch['tokens']['tokens'], custom_batch['tokens']['tokens'])}\")\n",
    "        #Defines the segments_ids (0 for first segment and 1 for second), can be used for NSP\n",
    "        #shape: (batch_size,max_seq_len)\n",
    "        print(f\"Segment ids are equal: {torch.equal(original_batch['segment_ids'],custom_batch['segment_ids'])}\")\n",
    "\n",
    "        original_wiki_kb = original_batch['candidates']['wiki']\n",
    "        custom_wiki_kb = custom_batch['candidates']['wiki']\n",
    "\n",
    "        print(f\"Candidate entity_priors are equal: {torch.equal(original_wiki_kb['candidate_entity_priors'],custom_wiki_kb['candidate_entity_priors'])}\")\n",
    "        print(f\"Candidate entities ids are equal: {torch.equal(original_wiki_kb['candidate_entities']['ids'],custom_wiki_kb['candidate_entities']['ids'])}\")\n",
    "        print(f\"Candidate span are equal: {torch.equal(original_wiki_kb['candidate_spans'],custom_wiki_kb['candidate_spans'])}\")\n",
    "\n",
    "        #For each sentence entity, indicate to which segment ids it corresponds to\n",
    "        print(f\"Candidate segments_ids are equal: {torch.equal(original_wiki_kb['candidate_segment_ids'],custom_wiki_kb['candidate_segment_ids'])}\")\n",
    "    \n",
    "\n",
    "batchifier_equal(original_batcher,custom_batcher,sentences)"
   ]
  },
  {
   "cell_type": "code",
   "execution_count": 69,
   "metadata": {},
   "outputs": [
    {
     "data": {
      "text/plain": [
       "tensor([1, 2, 3])"
      ]
     },
     "execution_count": 69,
     "metadata": {},
     "output_type": "execute_result"
    }
   ],
   "source": [
    "import numpy as np\n",
    "\n",
    "a = np.array([1,2,3],dtype=np.int64)\n",
    "torch.from_numpy(a)\n"
   ]
  },
  {
   "cell_type": "code",
   "execution_count": 65,
   "metadata": {},
   "outputs": [
    {
     "name": "stdout",
     "output_type": "stream",
     "text": [
      "Batch: dict_keys(['tokens', 'segment_ids', 'candidates'])\n",
      "Tokens shape torch.Size([4, 42])\n",
      "Tokens type torch.int64\n",
      "Segment ids shape: torch.Size([4, 42])\n",
      "Segment ids type torch.int64\n",
      "Candidate entity_priors shape: torch.Size([4, 26, 30])\n",
      "Candidate entity_priors type: torch.float32\n",
      "Candidate entities ids shape: torch.Size([4, 26, 30])\n",
      "Candidate entities ids type: torch.int64\n",
      "Candidate span shape: torch.Size([4, 26, 2])\n",
      "Candidate span type: torch.int64\n",
      "Candidate segments_ids shape: torch.Size([4, 26])\n",
      "Candidate segments_ids type: torch.int64\n"
     ]
    }
   ],
   "source": [
    "for batch in original_batcher.iter_batches(sentences, verbose=False):\n",
    "    print(f\"Batch: {batch.keys()}\") #Batch contains {tokens,segment_ids,candidates}\n",
    "    #tokens: Tensor of tokens indices (used to idx an embedding) => because a batch contains multiple\n",
    "    #sentences with varying # of tokens, all tokens tensors are padded with zeros \n",
    "    #shape: (batch_size (#full_sentences(if two sentences => link them with NSP)), max_seq_len)\n",
    "    #print(batch['tokens'])#dict with only 'tokens'\n",
    "    print(f\"Tokens shape {batch['tokens']['tokens'].shape}\")\n",
    "    print(f\"Tokens type {batch['tokens']['tokens'].dtype}\")\n",
    "    #Defines the segments_ids (0 for first segment and 1 for second), can be used for NSP\n",
    "    #shape: (batch_size,max_seq_len)\n",
    "    print(f\"Segment ids shape: {batch['segment_ids'].shape}\")\n",
    "    print(f\"Segment ids type {batch['segment_ids'].dtype}\")\n",
    "\n",
    "    #Dict with only wordnet\n",
    "    #Candidates: stores for multiple knowledge base, the entities detected using this knowledge base\n",
    "    wiki_kb = batch['candidates']['wiki']\n",
    "    # print(f\"Wordnet kb: {wordnet_kb.keys()}\")\n",
    "\n",
    "    #Stores for each detected entities, a list of candidate KB entities that correspond to it\n",
    "    #Priors: correctness probabilities estimated by the entity linker (sum to 1 (or 0 if padding) on axis 2)\n",
    "    #Adds 0 padding to axis 1 when there is less detected entities in the sentence than in the max sentence\n",
    "    #Adds 0 padding to axis 2 when there is less detected KB entities for an entity in the sentence than in the max candidate KB entities entity\n",
    "    #shape:(batch_size, max # detected entities, max # KB candidate entities)\n",
    "    print(f\"Candidate entity_priors shape: {wiki_kb['candidate_entity_priors'].shape}\")\n",
    "    print(f\"Candidate entity_priors type: {wiki_kb['candidate_entity_priors'].dtype}\")\n",
    "    #Ids of the KB candidate entities + 0 padding on axis 1 or 2 if necessary\n",
    "    #shape: (batch_size, max # detected entities, max # KB candidate entities)\n",
    "    print(f\"Candidate entities ids shape: {wiki_kb['candidate_entities']['ids'].shape}\")\n",
    "    print(f\"Candidate entities ids type: {wiki_kb['candidate_entities']['ids'].dtype}\")\n",
    "    #Spans of which sequence of tokens correspond to an entity in the sentence, eg: [1,2] for Michael Jackson (both bounds are included)\n",
    "    #Padding with [-1,-1] when no more detected entities\n",
    "    #shape: (batch_size, max # detected entities, 2)\n",
    "    print(f\"Candidate span shape: {wiki_kb['candidate_spans'].shape}\")\n",
    "    print(f\"Candidate span type: {wiki_kb['candidate_spans'].dtype}\")\n",
    "\n",
    "    #For each sentence entity, indicate to which segment ids it corresponds to\n",
    "    print(f\"Candidate segments_ids shape: {wiki_kb['candidate_segment_ids'].shape}\")\n",
    "    print(f\"Candidate segments_ids type: {wiki_kb['candidate_segment_ids'].dtype}\")\n",
    "    #break\n",
    "\n",
    "\n",
    "\n",
    "    # \n",
    "    #shape: (batch_size, max # detected entities)\n",
    "    # model(**batch)"
   ]
  },
  {
   "cell_type": "code",
   "execution_count": 47,
   "metadata": {},
   "outputs": [
    {
     "name": "stdout",
     "output_type": "stream",
     "text": [
      "\n",
      "Input\n",
      "\n",
      "Batch: dict_keys(['tokens', 'segment_ids', 'candidates'])\n",
      "Tokens shape torch.Size([4, 42])\n",
      "Segment ids shape: torch.Size([4, 42])\n"
     ]
    },
    {
     "ename": "KeyError",
     "evalue": "'wordnet'",
     "output_type": "error",
     "traceback": [
      "\u001b[0;31m---------------------------------------------------------------------------\u001b[0m",
      "\u001b[0;31mKeyError\u001b[0m                                  Traceback (most recent call last)",
      "\u001b[0;32m<ipython-input-47-f4cc3836615f>\u001b[0m in \u001b[0;36m<module>\u001b[0;34m\u001b[0m\n\u001b[1;32m     12\u001b[0m \u001b[0;31m#Dict with only wordnet\u001b[0m\u001b[0;34m\u001b[0m\u001b[0;34m\u001b[0m\u001b[0;34m\u001b[0m\u001b[0m\n\u001b[1;32m     13\u001b[0m \u001b[0;31m#Candidates: stores for multiple knowledge base, the entities detected using this knowledge base\u001b[0m\u001b[0;34m\u001b[0m\u001b[0;34m\u001b[0m\u001b[0;34m\u001b[0m\u001b[0m\n\u001b[0;32m---> 14\u001b[0;31m \u001b[0mwordnet_kb\u001b[0m \u001b[0;34m=\u001b[0m \u001b[0mbatch\u001b[0m\u001b[0;34m[\u001b[0m\u001b[0;34m'candidates'\u001b[0m\u001b[0;34m]\u001b[0m\u001b[0;34m[\u001b[0m\u001b[0;34m'wordnet'\u001b[0m\u001b[0;34m]\u001b[0m\u001b[0;34m\u001b[0m\u001b[0;34m\u001b[0m\u001b[0m\n\u001b[0m\u001b[1;32m     15\u001b[0m \u001b[0mprint\u001b[0m\u001b[0;34m(\u001b[0m\u001b[0;34mf\"Wordnet kb: {wordnet_kb.keys()}\"\u001b[0m\u001b[0;34m)\u001b[0m\u001b[0;34m\u001b[0m\u001b[0;34m\u001b[0m\u001b[0m\n\u001b[1;32m     16\u001b[0m \u001b[0;34m\u001b[0m\u001b[0m\n",
      "\u001b[0;31mKeyError\u001b[0m: 'wordnet'"
     ]
    }
   ],
   "source": [
    "print(f\"\\nInput\\n\")\n",
    "print(f\"Batch: {batch.keys()}\") #Batch contains {tokens,segment_ids,candidates}\n",
    "#tokens: Tensor of tokens indices (used to idx an embedding) => because a batch contains multiple\n",
    "#sentences with varying # of tokens, all tokens tensors are padded with zeros \n",
    "#shape: (batch_size (#sentences), max_seq_len)\n",
    "#print(batch['tokens'])#dict with only 'tokens'\n",
    "print(f\"Tokens shape {batch['tokens']['tokens'].shape}\")\n",
    "#Defines the segments_ids (0 for first segment and 1 for second), can be used for NSP\n",
    "#shape: (batch_size,max_seq_len), 0 padding\n",
    "print(f\"Segment ids shape: {batch['segment_ids'].shape}\")\n",
    "\n",
    "#Dict with only wordnet\n",
    "#Candidates: stores for multiple knowledge base, the entities detected using this knowledge base\n",
    "wordnet_kb = batch['candidates']['wordnet']\n",
    "print(f\"Wordnet kb: {wordnet_kb.keys()}\")\n",
    "\n",
    "#Stores for each detected entities, a list of candidate KB entities that correspond to it\n",
    "#Priors: correctness probabilities estimated by the entity linker (sum to 1 (or 0 if padding) on axis 2)\n",
    "#Adds 0 padding to axis 1 when there is less detected entities in the sentence than in the max sentence\n",
    "#Adds 0 padding to axis 2 when there is less detected KB entities for an entity in the sentence than in the max candidate KB entities entity\n",
    "#shape:(batch_size, max # detected entities, max # KB candidate entities)\n",
    "print(f\"Candidate entity_priors shape: {wordnet_kb['candidate_entity_priors'].shape}\")\n",
    "#Ids of the KB candidate entities + 0 padding on axis 1 or 2 if necessary\n",
    "#shape: (batch_size, max # detected entities, max # KB candidate entities)\n",
    "print(f\"Candidate entities ids shape: {wordnet_kb['candidate_entities']['ids'].shape}\")\n",
    "#Spans of which sequence of tokens correspond to an entity in the sentence, eg: [1,2] for Michael Jackson (both bounds are included)\n",
    "#Padding with [-1,-1] when no more detected entities\n",
    "#shape: (batch_size, max # detected entities, 2)\n",
    "print(f\"Candidate span shape: {wordnet_kb['candidate_spans'].shape}\")\n",
    "\n",
    "#For each sentence entity, indicate to which segment ids it corresponds to\n",
    "#shape: (batch_size, max # detected entities)\n",
    "print(f\"Candidate segments_ids shape: {wordnet_kb['candidate_segment_ids'].shape}\")"
   ]
  }
 ],
 "metadata": {
  "interpreter": {
   "hash": "9797c430b9b8ca5d4cad34220fe2c597e42ba7691ef10261f4554305aef3ef0a"
  },
  "kernelspec": {
   "display_name": "Python 3.6.7 ('knowbert': conda)",
   "language": "python",
   "name": "python3"
  },
  "language_info": {
   "codemirror_mode": {
    "name": "ipython",
    "version": 3
   },
   "file_extension": ".py",
   "mimetype": "text/x-python",
   "name": "python",
   "nbconvert_exporter": "python",
   "pygments_lexer": "ipython3",
   "version": "3.6.7"
  },
  "orig_nbformat": 4
 },
 "nbformat": 4,
 "nbformat_minor": 2
}
